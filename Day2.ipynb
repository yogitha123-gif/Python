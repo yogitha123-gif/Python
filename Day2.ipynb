{
 "cells": [
  {
   "cell_type": "code",
   "execution_count": 10,
   "id": "b493f32c-6d2e-4a6d-bd17-a0cfd64b6a36",
   "metadata": {},
   "outputs": [
    {
     "name": "stdout",
     "output_type": "stream",
     "text": [
      "The sum of all elements in the list is: 150\n"
     ]
    }
   ],
   "source": [
    "\n",
    "my_list = [10, 20, 30, 40, 50]\n",
    "\n",
    "total_sum = sum(my_list)\n",
    "\n",
    "print(\"The sum of all elements in the list is:\", total_sum)\n",
    "\n"
   ]
  },
  {
   "cell_type": "code",
   "execution_count": 12,
   "id": "e46a1013-5503-48b2-81d9-7a8361291397",
   "metadata": {},
   "outputs": [
    {
     "name": "stdout",
     "output_type": "stream",
     "text": [
      "First element: 100\n",
      "Third element: 300\n",
      "Last element: 500\n"
     ]
    }
   ],
   "source": [
    "# Creating a tuple\n",
    "my_tuple = (100, 200, 300, 400, 500)\n",
    "\n",
    "\n",
    "first_element = my_tuple[0]  # 100\n",
    "third_element = my_tuple[2]  # 300\n",
    "last_element = my_tuple[-1]  # 500\n",
    "\n",
    "print(\"First element:\", first_element)\n",
    "print(\"Third element:\", third_element)\n",
    "print(\"Last element:\", last_element)\n"
   ]
  },
  {
   "cell_type": "code",
   "execution_count": null,
   "id": "f45ac18f-0e15-419c-abfb-7ecffe465771",
   "metadata": {},
   "outputs": [],
   "source": []
  }
 ],
 "metadata": {
  "kernelspec": {
   "display_name": "Python [conda env:base] *",
   "language": "python",
   "name": "conda-base-py"
  },
  "language_info": {
   "codemirror_mode": {
    "name": "ipython",
    "version": 3
   },
   "file_extension": ".py",
   "mimetype": "text/x-python",
   "name": "python",
   "nbconvert_exporter": "python",
   "pygments_lexer": "ipython3",
   "version": "3.12.7"
  }
 },
 "nbformat": 4,
 "nbformat_minor": 5
}
