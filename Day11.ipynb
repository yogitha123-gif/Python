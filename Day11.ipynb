{
 "cells": [
  {
   "cell_type": "code",
   "execution_count": 2,
   "id": "7fda1fa5-40d3-4256-8ee7-009ab15566b5",
   "metadata": {},
   "outputs": [
    {
     "data": {
      "text/plain": [
       "(          Date       Account_Type    Branch Transaction_Type  \\\n",
       " 15  2023-01-03            Savings  Suburban   Service Charge   \n",
       " 8   2023-01-20  Recurring Deposit  Downtown   Service Charge   \n",
       " 2   2023-01-10            Current    Uptown     Loan Payment   \n",
       " 7   2023-01-09            Current   Central     Loan Payment   \n",
       " 17  2023-01-07            Current   Central     Loan Payment   \n",
       " 1   2023-01-16            Current    Uptown       Withdrawal   \n",
       " 19  2023-01-17            Savings   Central          Deposit   \n",
       " 18  2023-01-12  Recurring Deposit  Suburban   Service Charge   \n",
       " 16  2023-01-02      Fixed Deposit   Central          Deposit   \n",
       " 14  2023-01-01      Fixed Deposit  Downtown       Withdrawal   \n",
       " \n",
       "     Transaction_Amount  Account_Balance  \n",
       " 15             3350.32         12836.51  \n",
       " 8              3899.98         12646.56  \n",
       " 2              3363.85         12428.67  \n",
       " 7              2346.72         10708.85  \n",
       " 17             4116.52          9785.64  \n",
       " 1               641.43          8908.39  \n",
       " 19             4516.52          8789.19  \n",
       " 18             1339.57          8666.74  \n",
       " 16             4421.57          8330.40  \n",
       " 14             4136.54          8175.08  ,\n",
       "           Date    Branch  Transaction_Amount  Transaction_Rank\n",
       " 0   2023-01-19   Central              985.51               7.0\n",
       " 1   2023-01-16    Uptown              641.43               4.0\n",
       " 2   2023-01-10    Uptown             3363.85               1.0\n",
       " 3   2023-01-18    Uptown             1914.60               2.0\n",
       " 4   2023-01-14  Suburban             2788.57               3.0\n",
       " 5   2023-01-06  Suburban             4584.05               1.0\n",
       " 6   2023-01-04   Central             1621.82               6.0\n",
       " 7   2023-01-09   Central             2346.72               5.0\n",
       " 8   2023-01-20  Downtown             3899.98               2.0\n",
       " 9   2023-01-11  Downtown             1529.59               3.0\n",
       " 10  2023-01-13   Central              846.41               8.0\n",
       " 11  2023-01-08  Suburban             1803.88               4.0\n",
       " 12  2023-01-15    Uptown             1225.50               3.0\n",
       " 13  2023-01-05   Central             4683.64               1.0\n",
       " 14  2023-01-01  Downtown             4136.54               1.0\n",
       " 15  2023-01-03  Suburban             3350.32               2.0\n",
       " 16  2023-01-02   Central             4421.57               3.0\n",
       " 17  2023-01-07   Central             4116.52               4.0\n",
       " 18  2023-01-12  Suburban             1339.57               5.0\n",
       " 19  2023-01-17   Central             4516.52               2.0)"
      ]
     },
     "execution_count": 2,
     "metadata": {},
     "output_type": "execute_result"
    }
   ],
   "source": [
    "import pandas as pd\n",
    "\n",
    "data = {\n",
    "    'Date': ['2023-01-19', '2023-01-16', '2023-01-10', '2023-01-18', '2023-01-14', '2023-01-06', '2023-01-04', \n",
    "             '2023-01-09', '2023-01-20', '2023-01-11', '2023-01-13', '2023-01-08', '2023-01-15', '2023-01-05', \n",
    "             '2023-01-01', '2023-01-03', '2023-01-02', '2023-01-07', '2023-01-12', '2023-01-17'],\n",
    "    'Account_Type': ['Fixed Deposit', 'Current', 'Current', 'Savings', 'Recurring Deposit', 'Current', 'Recurring Deposit', \n",
    "                     'Current', 'Recurring Deposit', 'Fixed Deposit', 'Recurring Deposit', 'Fixed Deposit', 'Fixed Deposit', \n",
    "                     'Recurring Deposit', 'Fixed Deposit', 'Savings', 'Fixed Deposit', 'Current', 'Recurring Deposit', 'Savings'],\n",
    "    'Branch': ['Central', 'Uptown', 'Uptown', 'Uptown', 'Suburban', 'Suburban', 'Central', 'Central', 'Downtown', 'Downtown', \n",
    "               'Central', 'Suburban', 'Uptown', 'Central', 'Downtown', 'Suburban', 'Central', 'Central', 'Suburban', 'Central'],\n",
    "    'Transaction_Type': ['Loan Payment', 'Withdrawal', 'Loan Payment', 'Loan Payment', 'Loan Payment', 'Service Charge', \n",
    "                         'Service Charge', 'Loan Payment', 'Service Charge', 'Deposit', 'Deposit', 'Service Charge', 'Service Charge',\n",
    "                         'Loan Payment', 'Withdrawal', 'Service Charge', 'Deposit', 'Loan Payment', 'Service Charge', 'Deposit'],\n",
    "    'Transaction_Amount': [985.51, 641.43, 3363.85, 1914.6, 2788.57, 4584.05, 1621.82, 2346.72, 3899.98, 1529.59, 846.41, \n",
    "                           1803.88, 1225.5, 4683.64, 4136.54, 3350.32, 4421.57, 4116.52, 1339.57, 4516.52],\n",
    "    'Account_Balance': [6839.59, 8908.39, 12428.67, 5776.63, 4779.04, 7635.47, 6465.79, 10708.85, 12646.56, 2592.16, 6443.14, \n",
    "                        6560.58, 4224.47, 6762.43, 8175.08, 12836.51, 8330.4, 9785.64, 8666.74, 8789.19]\n",
    "}\n",
    "\n",
    "df = pd.DataFrame(data)\n",
    "\n",
    "sorted_df = df.sort_values(by='Account_Balance', ascending=False).head(10)\n",
    "\n",
    "df['Transaction_Rank'] = df.groupby('Branch')['Transaction_Amount'].rank(ascending=False)\n",
    "\n",
    "sorted_df, df[['Date', 'Branch', 'Transaction_Amount', 'Transaction_Rank']]\n"
   ]
  }
 ],
 "metadata": {
  "kernelspec": {
   "display_name": "Python [conda env:base] *",
   "language": "python",
   "name": "conda-base-py"
  },
  "language_info": {
   "codemirror_mode": {
    "name": "ipython",
    "version": 3
   },
   "file_extension": ".py",
   "mimetype": "text/x-python",
   "name": "python",
   "nbconvert_exporter": "python",
   "pygments_lexer": "ipython3",
   "version": "3.12.7"
  }
 },
 "nbformat": 4,
 "nbformat_minor": 5
}
