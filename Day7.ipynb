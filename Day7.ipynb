{
 "cells": [
  {
   "cell_type": "markdown",
   "id": "6a90db86-d90d-4d40-9a26-c1404030bdbe",
   "metadata": {},
   "source": [
    "# 1"
   ]
  },
  {
   "cell_type": "code",
   "execution_count": 5,
   "id": "00151ce9-6f00-4c74-9613-813480f08cf3",
   "metadata": {},
   "outputs": [
    {
     "name": "stdout",
     "output_type": "stream",
     "text": [
      "First 5 rows of the dataset:\n",
      "         Date Product Region    Sales  Profit  Quantity\n",
      "0  2023-01-02  Tablet   East  1061.81  236.12         7\n",
      "1  2023-01-06  Laptop  North  1926.07  246.34         8\n",
      "2  2023-01-03  Tablet   East  1597.99  253.17         3\n",
      "3  2023-01-20  Tablet  North  1397.99  242.23         1\n",
      "4  2023-01-04  Laptop   West   734.03  140.36         4\n",
      "\n",
      "Basic statistics of numerical columns:\n",
      "             Sales      Profit   Quantity\n",
      "count    20.000000   20.000000  20.000000\n",
      "mean   1186.553000  211.533000   5.050000\n",
      "std     461.528444   66.916251   2.543826\n",
      "min     530.880000   82.160000   1.000000\n",
      "25%     774.517500  166.515000   2.750000\n",
      "50%    1104.865000  214.670000   5.000000\n",
      "75%    1571.080000  248.047500   7.250000\n",
      "max    1954.860000  364.970000   9.000000\n"
     ]
    }
   ],
   "source": [
    "import pandas as pd\n",
    "\n",
    "data = pd.DataFrame({\n",
    "    \"Date\": [\"2023-01-02\", \"2023-01-06\", \"2023-01-03\", \"2023-01-20\", \"2023-01-04\", \n",
    "             \"2023-01-17\", \"2023-01-14\", \"2023-01-07\", \"2023-01-11\", \"2023-01-01\", \n",
    "             \"2023-01-19\", \"2023-01-12\", \"2023-01-09\", \"2023-01-10\", \"2023-01-08\", \n",
    "             \"2023-01-05\", \"2023-01-15\", \"2023-01-18\", \"2023-01-13\", \"2023-01-16\"],\n",
    "    \"Product\": [\"Tablet\", \"Laptop\", \"Tablet\", \"Tablet\", \"Laptop\", \n",
    "                \"Tablet\", \"Keyboard\", \"Smartphone\", \"Smartphone\", \"Laptop\", \n",
    "                \"Monitor\", \"Laptop\", \"Monitor\", \"Smartphone\", \"Laptop\", \n",
    "                \"Keyboard\", \"Tablet\", \"Monitor\", \"Tablet\", \"Tablet\"],\n",
    "    \"Region\": [\"East\", \"North\", \"East\", \"North\", \"West\", \n",
    "               \"North\", \"East\", \"East\", \"West\", \"North\", \n",
    "               \"North\", \"West\", \"North\", \"North\", \"East\", \n",
    "               \"North\", \"North\", \"West\", \"West\", \"South\"],\n",
    "    \"Sales\": [1061.81, 1926.07, 1597.99, 1397.99, 734.03, \n",
    "              733.99, 587.13, 1799.26, 1401.67, 1562.11, \n",
    "              530.88, 1954.86, 1748.66, 818.51, 772.74, \n",
    "              775.11, 956.36, 1287.13, 1147.92, 936.84],\n",
    "    \"Profit\": [236.12, 246.34, 253.17, 242.23, 140.36, \n",
    "               188.66, 82.16, 364.97, 306.24, 170.72, \n",
    "               117.59, 262.16, 197.62, 237.19, 226.51, \n",
    "               202.83, 153.9, 153.86, 271.88, 176.15],\n",
    "    \"Quantity\": [7, 8, 3, 1, 4, \n",
    "                 2, 8, 4, 2, 6, \n",
    "                 6, 4, 6, 2, 2, \n",
    "                 4, 8, 7, 9, 8]\n",
    "})\n",
    "\n",
    "print(\"First 5 rows of the dataset:\")\n",
    "print(data.head())\n",
    "\n",
    "print(\"\\nBasic statistics of numerical columns:\")\n",
    "print(data.describe())\n"
   ]
  },
  {
   "cell_type": "markdown",
   "id": "69e49b16-a6af-4c66-af75-97a49df7ba63",
   "metadata": {},
   "source": [
    "# 2"
   ]
  },
  {
   "cell_type": "code",
   "execution_count": 9,
   "id": "dfe72bcc-e2c0-43f5-b45e-42c598e5ea8f",
   "metadata": {},
   "outputs": [
    {
     "name": "stdout",
     "output_type": "stream",
     "text": [
      "Total sales for each region:\n",
      "Region\n",
      "East      5818.93\n",
      "North    10449.68\n",
      "South      936.84\n",
      "West      6525.61\n",
      "Name: Sales, dtype: float64\n",
      "\n",
      "Most sold product (based on quantity):\n",
      "Tablet\n",
      "\n",
      "Average profit margin for each product:\n",
      "Product\n",
      "Keyboard      20.080696\n",
      "Laptop        17.112734\n",
      "Monitor       15.134989\n",
      "Smartphone    23.703647\n",
      "Tablet        19.955758\n",
      "Name: Profit Margin, dtype: float64\n"
     ]
    }
   ],
   "source": [
    "import pandas as pd\n",
    "\n",
    "data = pd.DataFrame({\n",
    "    \"Date\": [\"2023-01-02\", \"2023-01-06\", \"2023-01-03\", \"2023-01-20\", \"2023-01-04\", \n",
    "             \"2023-01-17\", \"2023-01-14\", \"2023-01-07\", \"2023-01-11\", \"2023-01-01\", \n",
    "             \"2023-01-19\", \"2023-01-12\", \"2023-01-09\", \"2023-01-10\", \"2023-01-08\", \n",
    "             \"2023-01-05\", \"2023-01-15\", \"2023-01-18\", \"2023-01-13\", \"2023-01-16\"],\n",
    "    \"Product\": [\"Tablet\", \"Laptop\", \"Tablet\", \"Tablet\", \"Laptop\", \n",
    "                \"Tablet\", \"Keyboard\", \"Smartphone\", \"Smartphone\", \"Laptop\", \n",
    "                \"Monitor\", \"Laptop\", \"Monitor\", \"Smartphone\", \"Laptop\", \n",
    "                \"Keyboard\", \"Tablet\", \"Monitor\", \"Tablet\", \"Tablet\"],\n",
    "    \"Region\": [\"East\", \"North\", \"East\", \"North\", \"West\", \n",
    "               \"North\", \"East\", \"East\", \"West\", \"North\", \n",
    "               \"North\", \"West\", \"North\", \"North\", \"East\", \n",
    "               \"North\", \"North\", \"West\", \"West\", \"South\"],\n",
    "    \"Sales\": [1061.81, 1926.07, 1597.99, 1397.99, 734.03, \n",
    "              733.99, 587.13, 1799.26, 1401.67, 1562.11, \n",
    "              530.88, 1954.86, 1748.66, 818.51, 772.74, \n",
    "              775.11, 956.36, 1287.13, 1147.92, 936.84],\n",
    "    \"Profit\": [236.12, 246.34, 253.17, 242.23, 140.36, \n",
    "               188.66, 82.16, 364.97, 306.24, 170.72, \n",
    "               117.59, 262.16, 197.62, 237.19, 226.51, \n",
    "               202.83, 153.9, 153.86, 271.88, 176.15],\n",
    "    \"Quantity\": [7, 8, 3, 1, 4, \n",
    "                 2, 8, 4, 2, 6, \n",
    "                 6, 4, 6, 2, 2, \n",
    "                 4, 8, 7, 9, 8]\n",
    "})\n",
    "\n",
    "total_sales_by_region = data.groupby(\"Region\")[\"Sales\"].sum()\n",
    "\n",
    "most_sold_product = data.groupby(\"Product\")[\"Quantity\"].sum().idxmax()\n",
    "\n",
    "data[\"Profit Margin\"] = (data[\"Profit\"] / data[\"Sales\"]) * 100\n",
    "average_profit_margin_by_product = data.groupby(\"Product\")[\"Profit Margin\"].mean()\n",
    "\n",
    "print(\"Total sales for each region:\")\n",
    "print(total_sales_by_region)\n",
    "\n",
    "print(\"\\nMost sold product (based on quantity):\")\n",
    "print(most_sold_product)\n",
    "\n",
    "print(\"\\nAverage profit margin for each product:\")\n",
    "print(average_profit_margin_by_product)\n"
   ]
  }
 ],
 "metadata": {
  "kernelspec": {
   "display_name": "Python [conda env:base] *",
   "language": "python",
   "name": "conda-base-py"
  },
  "language_info": {
   "codemirror_mode": {
    "name": "ipython",
    "version": 3
   },
   "file_extension": ".py",
   "mimetype": "text/x-python",
   "name": "python",
   "nbconvert_exporter": "python",
   "pygments_lexer": "ipython3",
   "version": "3.12.7"
  }
 },
 "nbformat": 4,
 "nbformat_minor": 5
}
